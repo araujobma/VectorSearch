{
 "cells": [
  {
   "cell_type": "code",
   "execution_count": 3,
   "id": "2bc0eab8-1312-494e-bf0a-28b04182e359",
   "metadata": {},
   "outputs": [],
   "source": [
    "phrase = \"In general, I love music. But I love pop music more than any other musical genre. To me, music is my greatest  love.\""
   ]
  },
  {
   "cell_type": "code",
   "execution_count": 4,
   "id": "d26f4230-8bd1-4503-af18-dc788ed4efe1",
   "metadata": {},
   "outputs": [
    {
     "data": {
      "text/plain": [
       "'In general, I love music. But I love pop music more than any other musical genre. To me, music is my greatest  love.'"
      ]
     },
     "execution_count": 4,
     "metadata": {},
     "output_type": "execute_result"
    }
   ],
   "source": [
    "phrase"
   ]
  },
  {
   "cell_type": "code",
   "execution_count": 5,
   "id": "543a19db-bb7e-4bbf-8811-8cf16f686e0a",
   "metadata": {},
   "outputs": [
    {
     "name": "stdout",
     "output_type": "stream",
     "text": [
      "Collecting pandas\n",
      "  Downloading pandas-2.2.2-cp311-cp311-manylinux_2_17_x86_64.manylinux2014_x86_64.whl (13.0 MB)\n",
      "\u001b[2K     \u001b[38;2;114;156;31m━━━━━━━━━━━━━━━━━━━━━━━━━━━━━━━━━━━━━━━━\u001b[0m \u001b[32m13.0/13.0 MB\u001b[0m \u001b[31m10.5 MB/s\u001b[0m eta \u001b[36m0:00:00\u001b[0mm eta \u001b[36m0:00:01\u001b[0m0:01\u001b[0m:01\u001b[0m\n",
      "\u001b[?25hCollecting nltk\n",
      "  Using cached nltk-3.8.1-py3-none-any.whl (1.5 MB)\n",
      "Requirement already satisfied: numpy>=1.23.2 in ./.venv/lib/python3.11/site-packages (from pandas) (1.26.4)\n",
      "Requirement already satisfied: python-dateutil>=2.8.2 in ./.venv/lib/python3.11/site-packages (from pandas) (2.9.0.post0)\n",
      "Collecting pytz>=2020.1\n",
      "  Using cached pytz-2024.1-py2.py3-none-any.whl (505 kB)\n",
      "Collecting tzdata>=2022.7\n",
      "  Using cached tzdata-2024.1-py2.py3-none-any.whl (345 kB)\n",
      "Collecting click\n",
      "  Using cached click-8.1.7-py3-none-any.whl (97 kB)\n",
      "Collecting joblib\n",
      "  Downloading joblib-1.4.2-py3-none-any.whl (301 kB)\n",
      "\u001b[2K     \u001b[38;2;114;156;31m━━━━━━━━━━━━━━━━━━━━━━━━━━━━━━━━━━━━━━━\u001b[0m \u001b[32m301.8/301.8 kB\u001b[0m \u001b[31m7.0 MB/s\u001b[0m eta \u001b[36m0:00:00\u001b[0m[36m0:00:01\u001b[0m\n",
      "\u001b[?25hCollecting regex>=2021.8.3\n",
      "  Downloading regex-2024.5.10-cp311-cp311-manylinux_2_17_x86_64.manylinux2014_x86_64.whl (785 kB)\n",
      "\u001b[2K     \u001b[38;2;114;156;31m━━━━━━━━━━━━━━━━━━━━━━━━━━━━━━━━━━━━━━\u001b[0m \u001b[32m785.2/785.2 kB\u001b[0m \u001b[31m18.0 MB/s\u001b[0m eta \u001b[36m0:00:00\u001b[0mm eta \u001b[36m0:00:01\u001b[0m\n",
      "\u001b[?25hCollecting tqdm\n",
      "  Downloading tqdm-4.66.4-py3-none-any.whl (78 kB)\n",
      "\u001b[2K     \u001b[38;2;114;156;31m━━━━━━━━━━━━━━━━━━━━━━━━━━━━━━━━━━━━━━━━\u001b[0m \u001b[32m78.3/78.3 kB\u001b[0m \u001b[31m10.5 MB/s\u001b[0m eta \u001b[36m0:00:00\u001b[0m\n",
      "\u001b[?25hRequirement already satisfied: six>=1.5 in ./.venv/lib/python3.11/site-packages (from python-dateutil>=2.8.2->pandas) (1.16.0)\n",
      "Installing collected packages: pytz, tzdata, tqdm, regex, joblib, click, pandas, nltk\n",
      "Successfully installed click-8.1.7 joblib-1.4.2 nltk-3.8.1 pandas-2.2.2 pytz-2024.1 regex-2024.5.10 tqdm-4.66.4 tzdata-2024.1\n",
      "\n",
      "\u001b[1m[\u001b[0m\u001b[34;49mnotice\u001b[0m\u001b[1;39;49m]\u001b[0m\u001b[39;49m A new release of pip available: \u001b[0m\u001b[31;49m22.3.1\u001b[0m\u001b[39;49m -> \u001b[0m\u001b[32;49m24.0\u001b[0m\n",
      "\u001b[1m[\u001b[0m\u001b[34;49mnotice\u001b[0m\u001b[1;39;49m]\u001b[0m\u001b[39;49m To update, run: \u001b[0m\u001b[32;49mpip install --upgrade pip\u001b[0m\n"
     ]
    }
   ],
   "source": [
    "!pip install pandas nltk"
   ]
  },
  {
   "cell_type": "code",
   "execution_count": 12,
   "id": "f124627b-780d-499e-ba95-3bd0d1353be7",
   "metadata": {},
   "outputs": [],
   "source": [
    "from nltk.stem import PorterStemmer\n",
    "from nltk.tokenize import word_tokenize\n",
    "import pandas as pd"
   ]
  },
  {
   "cell_type": "code",
   "execution_count": 8,
   "id": "d6e1f9da-c9b1-46e3-bf55-04ecab0235c1",
   "metadata": {},
   "outputs": [],
   "source": [
    "ps = PorterStemmer()\n",
    "words = word_tokenize(phrase)"
   ]
  },
  {
   "cell_type": "code",
   "execution_count": 10,
   "id": "81cf356c-2411-489a-8cb4-ee9ad105debb",
   "metadata": {},
   "outputs": [
    {
     "data": {
      "text/plain": [
       "['In',\n",
       " 'general',\n",
       " ',',\n",
       " 'I',\n",
       " 'love',\n",
       " 'music',\n",
       " '.',\n",
       " 'But',\n",
       " 'I',\n",
       " 'love',\n",
       " 'pop',\n",
       " 'music',\n",
       " 'more',\n",
       " 'than',\n",
       " 'any',\n",
       " 'other',\n",
       " 'musical',\n",
       " 'genre',\n",
       " '.',\n",
       " 'To',\n",
       " 'me',\n",
       " ',',\n",
       " 'music',\n",
       " 'is',\n",
       " 'my',\n",
       " 'greatest',\n",
       " 'love',\n",
       " '.']"
      ]
     },
     "execution_count": 10,
     "metadata": {},
     "output_type": "execute_result"
    }
   ],
   "source": [
    "words"
   ]
  },
  {
   "cell_type": "code",
   "execution_count": 11,
   "id": "9ccfec02-e6bd-4c95-82fa-6ffeb0bd083f",
   "metadata": {},
   "outputs": [
    {
     "data": {
      "text/plain": [
       "['in',\n",
       " 'gener',\n",
       " ',',\n",
       " 'i',\n",
       " 'love',\n",
       " 'music',\n",
       " '.',\n",
       " 'but',\n",
       " 'i',\n",
       " 'love',\n",
       " 'pop',\n",
       " 'music',\n",
       " 'more',\n",
       " 'than',\n",
       " 'ani',\n",
       " 'other',\n",
       " 'music',\n",
       " 'genr',\n",
       " '.',\n",
       " 'to',\n",
       " 'me',\n",
       " ',',\n",
       " 'music',\n",
       " 'is',\n",
       " 'my',\n",
       " 'greatest',\n",
       " 'love',\n",
       " '.']"
      ]
     },
     "execution_count": 11,
     "metadata": {},
     "output_type": "execute_result"
    }
   ],
   "source": [
    "stemmed = [ps.stem(w) for w in words]\n",
    "stemmed"
   ]
  },
  {
   "cell_type": "code",
   "execution_count": 16,
   "id": "2936891a-a502-48b0-aacd-5fd2d561bf33",
   "metadata": {},
   "outputs": [],
   "source": [
    "import numpy as np\n",
    "\n",
    "def build_co_occurrence_matrix(tokenized_corpus,window_size):\n",
    "    #build unique words\n",
    "    unique_words=set()\n",
    "    for t_text in tokenized_corpus:\n",
    "        for t_word in t_text:\n",
    "            unique_words.add(t_word)\n",
    "\n",
    "    word_search_dict={word:np.zeros(shape=(len(unique_words))) for word in unique_words}\n",
    "    word_list=list(word_search_dict.keys())\n",
    "    for t_text in tokenized_corpus:\n",
    "        for idx,word in enumerate(t_text):\n",
    "            #pick word in the size range\n",
    "            i=max(0,idx-window_size)\n",
    "            j=min(len(t_text)-1,idx+window_size)\n",
    "            search=[t_text[idx_] for idx_ in range(i,j+1)]\n",
    "            search.remove(word)\n",
    "            for neighbor in search:\n",
    "                # get neighbor idx in word_search_dict\n",
    "                nei_idx=word_list.index(neighbor)\n",
    "                word_search_dict[word][nei_idx]+=1\n",
    "    return word_search_dict"
   ]
  },
  {
   "cell_type": "code",
   "execution_count": 28,
   "id": "394a2c81-d851-47e3-a1f6-e6f36a4358da",
   "metadata": {},
   "outputs": [],
   "source": [
    "coo_dict = build_co_occurrence_matrix([words], 4)"
   ]
  },
  {
   "cell_type": "code",
   "execution_count": 29,
   "id": "e013d1b8-a125-43dd-a167-c7ffae87c325",
   "metadata": {},
   "outputs": [
    {
     "data": {
      "text/html": [
       "<div>\n",
       "<style scoped>\n",
       "    .dataframe tbody tr th:only-of-type {\n",
       "        vertical-align: middle;\n",
       "    }\n",
       "\n",
       "    .dataframe tbody tr th {\n",
       "        vertical-align: top;\n",
       "    }\n",
       "\n",
       "    .dataframe thead th {\n",
       "        text-align: right;\n",
       "    }\n",
       "</style>\n",
       "<table border=\"1\" class=\"dataframe\">\n",
       "  <thead>\n",
       "    <tr style=\"text-align: right;\">\n",
       "      <th></th>\n",
       "      <th>To</th>\n",
       "      <th>my</th>\n",
       "      <th>musical</th>\n",
       "      <th>.</th>\n",
       "      <th>than</th>\n",
       "      <th>,</th>\n",
       "      <th>pop</th>\n",
       "      <th>greatest</th>\n",
       "      <th>In</th>\n",
       "      <th>me</th>\n",
       "      <th>love</th>\n",
       "      <th>I</th>\n",
       "      <th>general</th>\n",
       "      <th>is</th>\n",
       "      <th>music</th>\n",
       "      <th>other</th>\n",
       "      <th>more</th>\n",
       "      <th>But</th>\n",
       "      <th>genre</th>\n",
       "      <th>any</th>\n",
       "    </tr>\n",
       "  </thead>\n",
       "  <tbody>\n",
       "    <tr>\n",
       "      <th>To</th>\n",
       "      <td>0</td>\n",
       "      <td>0</td>\n",
       "      <td>1</td>\n",
       "      <td>1</td>\n",
       "      <td>0</td>\n",
       "      <td>1</td>\n",
       "      <td>0</td>\n",
       "      <td>0</td>\n",
       "      <td>0</td>\n",
       "      <td>1</td>\n",
       "      <td>0</td>\n",
       "      <td>0</td>\n",
       "      <td>0</td>\n",
       "      <td>1</td>\n",
       "      <td>1</td>\n",
       "      <td>1</td>\n",
       "      <td>0</td>\n",
       "      <td>0</td>\n",
       "      <td>1</td>\n",
       "      <td>0</td>\n",
       "    </tr>\n",
       "    <tr>\n",
       "      <th>my</th>\n",
       "      <td>0</td>\n",
       "      <td>0</td>\n",
       "      <td>0</td>\n",
       "      <td>1</td>\n",
       "      <td>0</td>\n",
       "      <td>1</td>\n",
       "      <td>0</td>\n",
       "      <td>1</td>\n",
       "      <td>0</td>\n",
       "      <td>1</td>\n",
       "      <td>1</td>\n",
       "      <td>0</td>\n",
       "      <td>0</td>\n",
       "      <td>1</td>\n",
       "      <td>1</td>\n",
       "      <td>0</td>\n",
       "      <td>0</td>\n",
       "      <td>0</td>\n",
       "      <td>0</td>\n",
       "      <td>0</td>\n",
       "    </tr>\n",
       "    <tr>\n",
       "      <th>musical</th>\n",
       "      <td>1</td>\n",
       "      <td>0</td>\n",
       "      <td>0</td>\n",
       "      <td>1</td>\n",
       "      <td>1</td>\n",
       "      <td>0</td>\n",
       "      <td>0</td>\n",
       "      <td>0</td>\n",
       "      <td>0</td>\n",
       "      <td>1</td>\n",
       "      <td>0</td>\n",
       "      <td>0</td>\n",
       "      <td>0</td>\n",
       "      <td>0</td>\n",
       "      <td>0</td>\n",
       "      <td>1</td>\n",
       "      <td>1</td>\n",
       "      <td>0</td>\n",
       "      <td>1</td>\n",
       "      <td>1</td>\n",
       "    </tr>\n",
       "    <tr>\n",
       "      <th>.</th>\n",
       "      <td>1</td>\n",
       "      <td>1</td>\n",
       "      <td>1</td>\n",
       "      <td>0</td>\n",
       "      <td>0</td>\n",
       "      <td>2</td>\n",
       "      <td>1</td>\n",
       "      <td>1</td>\n",
       "      <td>0</td>\n",
       "      <td>1</td>\n",
       "      <td>3</td>\n",
       "      <td>2</td>\n",
       "      <td>0</td>\n",
       "      <td>1</td>\n",
       "      <td>2</td>\n",
       "      <td>1</td>\n",
       "      <td>0</td>\n",
       "      <td>1</td>\n",
       "      <td>1</td>\n",
       "      <td>1</td>\n",
       "    </tr>\n",
       "    <tr>\n",
       "      <th>than</th>\n",
       "      <td>0</td>\n",
       "      <td>0</td>\n",
       "      <td>1</td>\n",
       "      <td>0</td>\n",
       "      <td>0</td>\n",
       "      <td>0</td>\n",
       "      <td>1</td>\n",
       "      <td>0</td>\n",
       "      <td>0</td>\n",
       "      <td>0</td>\n",
       "      <td>1</td>\n",
       "      <td>0</td>\n",
       "      <td>0</td>\n",
       "      <td>0</td>\n",
       "      <td>1</td>\n",
       "      <td>1</td>\n",
       "      <td>1</td>\n",
       "      <td>0</td>\n",
       "      <td>1</td>\n",
       "      <td>1</td>\n",
       "    </tr>\n",
       "    <tr>\n",
       "      <th>,</th>\n",
       "      <td>1</td>\n",
       "      <td>1</td>\n",
       "      <td>0</td>\n",
       "      <td>2</td>\n",
       "      <td>0</td>\n",
       "      <td>0</td>\n",
       "      <td>0</td>\n",
       "      <td>1</td>\n",
       "      <td>1</td>\n",
       "      <td>1</td>\n",
       "      <td>1</td>\n",
       "      <td>1</td>\n",
       "      <td>1</td>\n",
       "      <td>1</td>\n",
       "      <td>2</td>\n",
       "      <td>0</td>\n",
       "      <td>0</td>\n",
       "      <td>0</td>\n",
       "      <td>1</td>\n",
       "      <td>0</td>\n",
       "    </tr>\n",
       "    <tr>\n",
       "      <th>pop</th>\n",
       "      <td>0</td>\n",
       "      <td>0</td>\n",
       "      <td>0</td>\n",
       "      <td>1</td>\n",
       "      <td>1</td>\n",
       "      <td>0</td>\n",
       "      <td>0</td>\n",
       "      <td>0</td>\n",
       "      <td>0</td>\n",
       "      <td>0</td>\n",
       "      <td>1</td>\n",
       "      <td>1</td>\n",
       "      <td>0</td>\n",
       "      <td>0</td>\n",
       "      <td>1</td>\n",
       "      <td>0</td>\n",
       "      <td>1</td>\n",
       "      <td>1</td>\n",
       "      <td>0</td>\n",
       "      <td>1</td>\n",
       "    </tr>\n",
       "    <tr>\n",
       "      <th>greatest</th>\n",
       "      <td>0</td>\n",
       "      <td>1</td>\n",
       "      <td>0</td>\n",
       "      <td>1</td>\n",
       "      <td>0</td>\n",
       "      <td>1</td>\n",
       "      <td>0</td>\n",
       "      <td>0</td>\n",
       "      <td>0</td>\n",
       "      <td>0</td>\n",
       "      <td>1</td>\n",
       "      <td>0</td>\n",
       "      <td>0</td>\n",
       "      <td>1</td>\n",
       "      <td>1</td>\n",
       "      <td>0</td>\n",
       "      <td>0</td>\n",
       "      <td>0</td>\n",
       "      <td>0</td>\n",
       "      <td>0</td>\n",
       "    </tr>\n",
       "    <tr>\n",
       "      <th>In</th>\n",
       "      <td>0</td>\n",
       "      <td>0</td>\n",
       "      <td>0</td>\n",
       "      <td>0</td>\n",
       "      <td>0</td>\n",
       "      <td>1</td>\n",
       "      <td>0</td>\n",
       "      <td>0</td>\n",
       "      <td>0</td>\n",
       "      <td>0</td>\n",
       "      <td>1</td>\n",
       "      <td>1</td>\n",
       "      <td>1</td>\n",
       "      <td>0</td>\n",
       "      <td>0</td>\n",
       "      <td>0</td>\n",
       "      <td>0</td>\n",
       "      <td>0</td>\n",
       "      <td>0</td>\n",
       "      <td>0</td>\n",
       "    </tr>\n",
       "    <tr>\n",
       "      <th>me</th>\n",
       "      <td>1</td>\n",
       "      <td>1</td>\n",
       "      <td>1</td>\n",
       "      <td>1</td>\n",
       "      <td>0</td>\n",
       "      <td>1</td>\n",
       "      <td>0</td>\n",
       "      <td>0</td>\n",
       "      <td>0</td>\n",
       "      <td>0</td>\n",
       "      <td>0</td>\n",
       "      <td>0</td>\n",
       "      <td>0</td>\n",
       "      <td>1</td>\n",
       "      <td>1</td>\n",
       "      <td>0</td>\n",
       "      <td>0</td>\n",
       "      <td>0</td>\n",
       "      <td>1</td>\n",
       "      <td>0</td>\n",
       "    </tr>\n",
       "    <tr>\n",
       "      <th>love</th>\n",
       "      <td>0</td>\n",
       "      <td>1</td>\n",
       "      <td>0</td>\n",
       "      <td>3</td>\n",
       "      <td>1</td>\n",
       "      <td>1</td>\n",
       "      <td>1</td>\n",
       "      <td>1</td>\n",
       "      <td>1</td>\n",
       "      <td>0</td>\n",
       "      <td>0</td>\n",
       "      <td>3</td>\n",
       "      <td>1</td>\n",
       "      <td>1</td>\n",
       "      <td>4</td>\n",
       "      <td>0</td>\n",
       "      <td>1</td>\n",
       "      <td>2</td>\n",
       "      <td>0</td>\n",
       "      <td>0</td>\n",
       "    </tr>\n",
       "    <tr>\n",
       "      <th>I</th>\n",
       "      <td>0</td>\n",
       "      <td>0</td>\n",
       "      <td>0</td>\n",
       "      <td>2</td>\n",
       "      <td>0</td>\n",
       "      <td>1</td>\n",
       "      <td>1</td>\n",
       "      <td>0</td>\n",
       "      <td>1</td>\n",
       "      <td>0</td>\n",
       "      <td>3</td>\n",
       "      <td>0</td>\n",
       "      <td>1</td>\n",
       "      <td>0</td>\n",
       "      <td>3</td>\n",
       "      <td>0</td>\n",
       "      <td>1</td>\n",
       "      <td>2</td>\n",
       "      <td>0</td>\n",
       "      <td>0</td>\n",
       "    </tr>\n",
       "    <tr>\n",
       "      <th>general</th>\n",
       "      <td>0</td>\n",
       "      <td>0</td>\n",
       "      <td>0</td>\n",
       "      <td>0</td>\n",
       "      <td>0</td>\n",
       "      <td>1</td>\n",
       "      <td>0</td>\n",
       "      <td>0</td>\n",
       "      <td>1</td>\n",
       "      <td>0</td>\n",
       "      <td>1</td>\n",
       "      <td>1</td>\n",
       "      <td>0</td>\n",
       "      <td>0</td>\n",
       "      <td>1</td>\n",
       "      <td>0</td>\n",
       "      <td>0</td>\n",
       "      <td>0</td>\n",
       "      <td>0</td>\n",
       "      <td>0</td>\n",
       "    </tr>\n",
       "    <tr>\n",
       "      <th>is</th>\n",
       "      <td>1</td>\n",
       "      <td>1</td>\n",
       "      <td>0</td>\n",
       "      <td>1</td>\n",
       "      <td>0</td>\n",
       "      <td>1</td>\n",
       "      <td>0</td>\n",
       "      <td>1</td>\n",
       "      <td>0</td>\n",
       "      <td>1</td>\n",
       "      <td>1</td>\n",
       "      <td>0</td>\n",
       "      <td>0</td>\n",
       "      <td>0</td>\n",
       "      <td>1</td>\n",
       "      <td>0</td>\n",
       "      <td>0</td>\n",
       "      <td>0</td>\n",
       "      <td>0</td>\n",
       "      <td>0</td>\n",
       "    </tr>\n",
       "    <tr>\n",
       "      <th>music</th>\n",
       "      <td>1</td>\n",
       "      <td>1</td>\n",
       "      <td>0</td>\n",
       "      <td>2</td>\n",
       "      <td>1</td>\n",
       "      <td>2</td>\n",
       "      <td>1</td>\n",
       "      <td>1</td>\n",
       "      <td>0</td>\n",
       "      <td>1</td>\n",
       "      <td>4</td>\n",
       "      <td>3</td>\n",
       "      <td>1</td>\n",
       "      <td>1</td>\n",
       "      <td>0</td>\n",
       "      <td>1</td>\n",
       "      <td>1</td>\n",
       "      <td>2</td>\n",
       "      <td>0</td>\n",
       "      <td>1</td>\n",
       "    </tr>\n",
       "    <tr>\n",
       "      <th>other</th>\n",
       "      <td>1</td>\n",
       "      <td>0</td>\n",
       "      <td>1</td>\n",
       "      <td>1</td>\n",
       "      <td>1</td>\n",
       "      <td>0</td>\n",
       "      <td>0</td>\n",
       "      <td>0</td>\n",
       "      <td>0</td>\n",
       "      <td>0</td>\n",
       "      <td>0</td>\n",
       "      <td>0</td>\n",
       "      <td>0</td>\n",
       "      <td>0</td>\n",
       "      <td>1</td>\n",
       "      <td>0</td>\n",
       "      <td>1</td>\n",
       "      <td>0</td>\n",
       "      <td>1</td>\n",
       "      <td>1</td>\n",
       "    </tr>\n",
       "    <tr>\n",
       "      <th>more</th>\n",
       "      <td>0</td>\n",
       "      <td>0</td>\n",
       "      <td>1</td>\n",
       "      <td>0</td>\n",
       "      <td>1</td>\n",
       "      <td>0</td>\n",
       "      <td>1</td>\n",
       "      <td>0</td>\n",
       "      <td>0</td>\n",
       "      <td>0</td>\n",
       "      <td>1</td>\n",
       "      <td>1</td>\n",
       "      <td>0</td>\n",
       "      <td>0</td>\n",
       "      <td>1</td>\n",
       "      <td>1</td>\n",
       "      <td>0</td>\n",
       "      <td>0</td>\n",
       "      <td>0</td>\n",
       "      <td>1</td>\n",
       "    </tr>\n",
       "    <tr>\n",
       "      <th>But</th>\n",
       "      <td>0</td>\n",
       "      <td>0</td>\n",
       "      <td>0</td>\n",
       "      <td>1</td>\n",
       "      <td>0</td>\n",
       "      <td>0</td>\n",
       "      <td>1</td>\n",
       "      <td>0</td>\n",
       "      <td>0</td>\n",
       "      <td>0</td>\n",
       "      <td>2</td>\n",
       "      <td>2</td>\n",
       "      <td>0</td>\n",
       "      <td>0</td>\n",
       "      <td>2</td>\n",
       "      <td>0</td>\n",
       "      <td>0</td>\n",
       "      <td>0</td>\n",
       "      <td>0</td>\n",
       "      <td>0</td>\n",
       "    </tr>\n",
       "    <tr>\n",
       "      <th>genre</th>\n",
       "      <td>1</td>\n",
       "      <td>0</td>\n",
       "      <td>1</td>\n",
       "      <td>1</td>\n",
       "      <td>1</td>\n",
       "      <td>1</td>\n",
       "      <td>0</td>\n",
       "      <td>0</td>\n",
       "      <td>0</td>\n",
       "      <td>1</td>\n",
       "      <td>0</td>\n",
       "      <td>0</td>\n",
       "      <td>0</td>\n",
       "      <td>0</td>\n",
       "      <td>0</td>\n",
       "      <td>1</td>\n",
       "      <td>0</td>\n",
       "      <td>0</td>\n",
       "      <td>0</td>\n",
       "      <td>1</td>\n",
       "    </tr>\n",
       "    <tr>\n",
       "      <th>any</th>\n",
       "      <td>0</td>\n",
       "      <td>0</td>\n",
       "      <td>1</td>\n",
       "      <td>1</td>\n",
       "      <td>1</td>\n",
       "      <td>0</td>\n",
       "      <td>1</td>\n",
       "      <td>0</td>\n",
       "      <td>0</td>\n",
       "      <td>0</td>\n",
       "      <td>0</td>\n",
       "      <td>0</td>\n",
       "      <td>0</td>\n",
       "      <td>0</td>\n",
       "      <td>1</td>\n",
       "      <td>1</td>\n",
       "      <td>1</td>\n",
       "      <td>0</td>\n",
       "      <td>1</td>\n",
       "      <td>0</td>\n",
       "    </tr>\n",
       "  </tbody>\n",
       "</table>\n",
       "</div>"
      ],
      "text/plain": [
       "          To  my  musical  .  than  ,  pop  greatest  In  me  love  I  \\\n",
       "To         0   0        1  1     0  1    0         0   0   1     0  0   \n",
       "my         0   0        0  1     0  1    0         1   0   1     1  0   \n",
       "musical    1   0        0  1     1  0    0         0   0   1     0  0   \n",
       ".          1   1        1  0     0  2    1         1   0   1     3  2   \n",
       "than       0   0        1  0     0  0    1         0   0   0     1  0   \n",
       ",          1   1        0  2     0  0    0         1   1   1     1  1   \n",
       "pop        0   0        0  1     1  0    0         0   0   0     1  1   \n",
       "greatest   0   1        0  1     0  1    0         0   0   0     1  0   \n",
       "In         0   0        0  0     0  1    0         0   0   0     1  1   \n",
       "me         1   1        1  1     0  1    0         0   0   0     0  0   \n",
       "love       0   1        0  3     1  1    1         1   1   0     0  3   \n",
       "I          0   0        0  2     0  1    1         0   1   0     3  0   \n",
       "general    0   0        0  0     0  1    0         0   1   0     1  1   \n",
       "is         1   1        0  1     0  1    0         1   0   1     1  0   \n",
       "music      1   1        0  2     1  2    1         1   0   1     4  3   \n",
       "other      1   0        1  1     1  0    0         0   0   0     0  0   \n",
       "more       0   0        1  0     1  0    1         0   0   0     1  1   \n",
       "But        0   0        0  1     0  0    1         0   0   0     2  2   \n",
       "genre      1   0        1  1     1  1    0         0   0   1     0  0   \n",
       "any        0   0        1  1     1  0    1         0   0   0     0  0   \n",
       "\n",
       "          general  is  music  other  more  But  genre  any  \n",
       "To              0   1      1      1     0    0      1    0  \n",
       "my              0   1      1      0     0    0      0    0  \n",
       "musical         0   0      0      1     1    0      1    1  \n",
       ".               0   1      2      1     0    1      1    1  \n",
       "than            0   0      1      1     1    0      1    1  \n",
       ",               1   1      2      0     0    0      1    0  \n",
       "pop             0   0      1      0     1    1      0    1  \n",
       "greatest        0   1      1      0     0    0      0    0  \n",
       "In              1   0      0      0     0    0      0    0  \n",
       "me              0   1      1      0     0    0      1    0  \n",
       "love            1   1      4      0     1    2      0    0  \n",
       "I               1   0      3      0     1    2      0    0  \n",
       "general         0   0      1      0     0    0      0    0  \n",
       "is              0   0      1      0     0    0      0    0  \n",
       "music           1   1      0      1     1    2      0    1  \n",
       "other           0   0      1      0     1    0      1    1  \n",
       "more            0   0      1      1     0    0      0    1  \n",
       "But             0   0      2      0     0    0      0    0  \n",
       "genre           0   0      0      1     0    0      0    1  \n",
       "any             0   0      1      1     1    0      1    0  "
      ]
     },
     "execution_count": 29,
     "metadata": {},
     "output_type": "execute_result"
    }
   ],
   "source": [
    "coo_df = pd.DataFrame(coo_dict,index=coo_dict.keys()).astype('int')\n",
    "coo_df"
   ]
  },
  {
   "cell_type": "code",
   "execution_count": 33,
   "id": "86c074e3-5390-4440-828a-a7e6fa9b56d8",
   "metadata": {},
   "outputs": [
    {
     "data": {
      "text/plain": [
       "4"
      ]
     },
     "execution_count": 33,
     "metadata": {},
     "output_type": "execute_result"
    }
   ],
   "source": [
    "coo_df.loc['music']['love']"
   ]
  },
  {
   "cell_type": "code",
   "execution_count": 36,
   "id": "42ecf1b0-fe9c-4aad-9044-29455b87986a",
   "metadata": {},
   "outputs": [
    {
     "data": {
      "text/html": [
       "<div>\n",
       "<style scoped>\n",
       "    .dataframe tbody tr th:only-of-type {\n",
       "        vertical-align: middle;\n",
       "    }\n",
       "\n",
       "    .dataframe tbody tr th {\n",
       "        vertical-align: top;\n",
       "    }\n",
       "\n",
       "    .dataframe thead th {\n",
       "        text-align: right;\n",
       "    }\n",
       "</style>\n",
       "<table border=\"1\" class=\"dataframe\">\n",
       "  <thead>\n",
       "    <tr style=\"text-align: right;\">\n",
       "      <th></th>\n",
       "      <th>data</th>\n",
       "      <th>boba</th>\n",
       "      <th>ice-cream</th>\n",
       "    </tr>\n",
       "  </thead>\n",
       "  <tbody>\n",
       "    <tr>\n",
       "      <th>AI</th>\n",
       "      <td>6.0</td>\n",
       "      <td>0.0</td>\n",
       "      <td>1.0</td>\n",
       "    </tr>\n",
       "    <tr>\n",
       "      <th>drinks</th>\n",
       "      <td>0.0</td>\n",
       "      <td>4.0</td>\n",
       "      <td>6.0</td>\n",
       "    </tr>\n",
       "    <tr>\n",
       "      <th>food</th>\n",
       "      <td>0.0</td>\n",
       "      <td>6.0</td>\n",
       "      <td>8.0</td>\n",
       "    </tr>\n",
       "  </tbody>\n",
       "</table>\n",
       "</div>"
      ],
      "text/plain": [
       "        data  boba  ice-cream\n",
       "AI       6.0   0.0        1.0\n",
       "drinks   0.0   4.0        6.0\n",
       "food     0.0   6.0        8.0"
      ]
     },
     "execution_count": 36,
     "metadata": {},
     "output_type": "execute_result"
    }
   ],
   "source": [
    "vectors_df = pd.DataFrame(\n",
    "    {\n",
    "        'data': np.array([6,0,0]),\n",
    "        'boba': np.array([0,4,6]),\n",
    "        'ice-cream': np.array([1,6,8])\n",
    "    },\n",
    "    index=['AI','drinks','food']\n",
    ").astype('float64')\n",
    "vectors_df"
   ]
  },
  {
   "cell_type": "code",
   "execution_count": 38,
   "id": "b6c33858-18a9-4e4b-9339-4a70f3af9c1a",
   "metadata": {},
   "outputs": [
    {
     "data": {
      "text/plain": [
       "3.0"
      ]
     },
     "execution_count": 38,
     "metadata": {},
     "output_type": "execute_result"
    }
   ],
   "source": [
    "#Euclidean Distance\n",
    "np.linalg.norm(vectors_df['ice-cream'] - vectors_df['boba'])"
   ]
  },
  {
   "cell_type": "code",
   "execution_count": 39,
   "id": "e0be615a-dd99-4af2-acef-5be94833040e",
   "metadata": {},
   "outputs": [
    {
     "data": {
      "text/plain": [
       "3.0"
      ]
     },
     "execution_count": 39,
     "metadata": {},
     "output_type": "execute_result"
    }
   ],
   "source": [
    "diff = np.linalg.norm(vectors_df['ice-cream'] - vectors_df['boba'])\n",
    "sum_sq = np.dot(diff.T, diff)\n",
    "np.sqrt(sum_sq)"
   ]
  },
  {
   "cell_type": "code",
   "execution_count": 45,
   "id": "46ad8c89-e13c-4d83-bc80-1ab01c468d07",
   "metadata": {},
   "outputs": [
    {
     "data": {
      "text/plain": [
       "0.8682431421244591"
      ]
     },
     "execution_count": 45,
     "metadata": {},
     "output_type": "execute_result"
    }
   ],
   "source": [
    "history = np.array([30,20])\n",
    "agriculture = np.array([20,40])\n",
    "\n",
    "dot_prod = np.dot(history, agriculture)\n",
    "dot_prod/(np.linalg.norm(history) * np.linalg.norm(agriculture))"
   ]
  },
  {
   "cell_type": "code",
   "execution_count": 52,
   "id": "9b7edb8d-27e2-463d-bf9b-dbd144985cd9",
   "metadata": {},
   "outputs": [],
   "source": [
    "usa = np.array([5,6])\n",
    "russia = np.array([5,5])\n",
    "japan = np.array([4,3])\n",
    "turkey = np.array([3,1])\n",
    "\n",
    "washington = np.array([10,5])\n",
    "ankara = np.array([9,1])"
   ]
  },
  {
   "cell_type": "code",
   "execution_count": 54,
   "id": "9c8770ad-7477-4531-861a-3c9a4cb1ed62",
   "metadata": {},
   "outputs": [],
   "source": [
    "diff = usa - washington"
   ]
  },
  {
   "cell_type": "code",
   "execution_count": 55,
   "id": "6f5fd7bf-17da-451b-8cc9-35e6a87dff87",
   "metadata": {},
   "outputs": [
    {
     "data": {
      "text/plain": [
       "array([4, 2])"
      ]
     },
     "execution_count": 55,
     "metadata": {},
     "output_type": "execute_result"
    }
   ],
   "source": [
    "country = diff + ankara\n",
    "country"
   ]
  },
  {
   "cell_type": "code",
   "execution_count": 73,
   "id": "06246496-36a9-4b56-b02b-ac9a70e4ccc3",
   "metadata": {},
   "outputs": [
    {
     "data": {
      "text/plain": [
       "array([[5, 6],\n",
       "       [5, 5],\n",
       "       [4, 3],\n",
       "       [3, 1]])"
      ]
     },
     "execution_count": 73,
     "metadata": {},
     "output_type": "execute_result"
    }
   ],
   "source": [
    "countries = np.stack((usa, russia, japan, turkey), axis=0)\n",
    "countries"
   ]
  },
  {
   "cell_type": "code",
   "execution_count": 71,
   "id": "979379e6-c328-4a67-bf35-4b81ecf695bf",
   "metadata": {},
   "outputs": [
    {
     "data": {
      "text/plain": [
       "array([32, 30, 22, 14])"
      ]
     },
     "execution_count": 71,
     "metadata": {},
     "output_type": "execute_result"
    }
   ],
   "source": [
    "#cosine similarity\n",
    "dot_products = np.dot(countries, country)\n",
    "dot_products"
   ]
  },
  {
   "cell_type": "code",
   "execution_count": 72,
   "id": "0029bf9f-7e86-47ee-b159-49d3c33dc4e6",
   "metadata": {},
   "outputs": [
    {
     "data": {
      "text/plain": [
       "array([0.91615733, 0.9486833 , 0.98386991, 0.98994949])"
      ]
     },
     "execution_count": 72,
     "metadata": {},
     "output_type": "execute_result"
    }
   ],
   "source": [
    "norms = np.linalg.norm(countries, axis=1)\n",
    "s = dot_products/(norms * np.linalg.norm(country))\n",
    "s"
   ]
  },
  {
   "cell_type": "code",
   "execution_count": 76,
   "id": "ba1c7f7b-d25e-4706-b678-6d8a7782245c",
   "metadata": {},
   "outputs": [
    {
     "data": {
      "text/plain": [
       "array([[ 1,  4],\n",
       "       [ 1,  3],\n",
       "       [ 0,  1],\n",
       "       [-1, -1]])"
      ]
     },
     "execution_count": 76,
     "metadata": {},
     "output_type": "execute_result"
    }
   ],
   "source": [
    "#euclidean siatance\n",
    "diff = (countries - country)\n",
    "diff"
   ]
  },
  {
   "cell_type": "code",
   "execution_count": 77,
   "id": "2a4066a4-76c3-45c4-999a-7787b7fd1767",
   "metadata": {},
   "outputs": [
    {
     "data": {
      "text/plain": [
       "array([4.12310563, 3.16227766, 1.        , 1.41421356])"
      ]
     },
     "execution_count": 77,
     "metadata": {},
     "output_type": "execute_result"
    }
   ],
   "source": [
    "d = np.linalg.norm(diff, axis=1)\n",
    "d"
   ]
  },
  {
   "cell_type": "markdown",
   "id": "1bf029ee-0490-4311-af26-939d8ea90d59",
   "metadata": {},
   "source": [
    "Transforming Vectors"
   ]
  },
  {
   "cell_type": "code",
   "execution_count": 2,
   "id": "aa0100ed-999a-450b-bf5f-e2d7d2daf6c9",
   "metadata": {},
   "outputs": [
    {
     "data": {
      "text/plain": [
       "array([[ 2, -2]])"
      ]
     },
     "execution_count": 2,
     "metadata": {},
     "output_type": "execute_result"
    }
   ],
   "source": [
    "import numpy as np\n",
    "\n",
    "R = np.array([[2,0],[0, -2]])\n",
    "X = np.array([[1,1]])\n",
    "np.dot(X,R)"
   ]
  },
  {
   "cell_type": "code",
   "execution_count": 3,
   "id": "c2fd92d7-9e17-40e3-9e74-cc9f27a27511",
   "metadata": {},
   "outputs": [
    {
     "data": {
      "text/plain": [
       "array([[4, 4],\n",
       "       [4, 4]])"
      ]
     },
     "execution_count": 3,
     "metadata": {},
     "output_type": "execute_result"
    }
   ],
   "source": [
    "A = np.array([\n",
    "    [2,2,],\n",
    "    [2,2]    \n",
    "])\n",
    "A_squared = np.square(A)\n",
    "A_squared"
   ]
  },
  {
   "cell_type": "code",
   "execution_count": 4,
   "id": "d3eb8234-79e6-4884-9405-b21871d8721a",
   "metadata": {},
   "outputs": [
    {
     "data": {
      "text/plain": [
       "4.0"
      ]
     },
     "execution_count": 4,
     "metadata": {},
     "output_type": "execute_result"
    }
   ],
   "source": [
    "A_Frobenious = np.sqrt(np.sum(A_squared))\n",
    "A_Frobenious"
   ]
  },
  {
   "cell_type": "code",
   "execution_count": 7,
   "id": "527dfbf9-7a0e-4ad9-ac6d-5df884196d9b",
   "metadata": {},
   "outputs": [],
   "source": [
    "def basic_hash_table(value_l, n_buckets):\n",
    "    def hash_function(value, n_buckets):\n",
    "        return int(value) % n_buckets\n",
    "    hash_table = {i:[] for i in range(n_buckets)}\n",
    "    for value in value_l:\n",
    "        hash_value = hash_function(value, n_buckets)\n",
    "        hash_table[hash_value].append(value)\n",
    "    return hash_table"
   ]
  },
  {
   "cell_type": "code",
   "execution_count": 9,
   "id": "2eeb5989-c16b-43dd-88c8-7d661151d605",
   "metadata": {},
   "outputs": [],
   "source": [
    "P = np.array([1,1])\n",
    "V1 = np.array([1,1])\n",
    "V2 = np.array([2,2])\n",
    "V3 = np.array([-1,-1])"
   ]
  },
  {
   "cell_type": "code",
   "execution_count": 10,
   "id": "e89c532b-9201-4a34-bfab-da059e41d826",
   "metadata": {},
   "outputs": [
    {
     "data": {
      "text/plain": [
       "array([ 2,  4, -2])"
      ]
     },
     "execution_count": 10,
     "metadata": {},
     "output_type": "execute_result"
    }
   ],
   "source": [
    "np.dot(np.stack((V1,V2,V3)), P)"
   ]
  },
  {
   "cell_type": "code",
   "execution_count": 24,
   "id": "0813852c-3f08-4488-891a-d16a4272ec69",
   "metadata": {},
   "outputs": [],
   "source": [
    "def side_of_plane(P,v):\n",
    "    dotproduct = np.dot(P, v.T)\n",
    "    sign_of_doct_product = np.sign(dotproduct)\n",
    "    return sign_of_doct_product\n",
    "    "
   ]
  },
  {
   "cell_type": "code",
   "execution_count": 18,
   "id": "9268bc41-3261-4dcd-a633-ef1c8532f26e",
   "metadata": {},
   "outputs": [
    {
     "data": {
      "text/plain": [
       "-1"
      ]
     },
     "execution_count": 18,
     "metadata": {},
     "output_type": "execute_result"
    }
   ],
   "source": [
    "side_of_plane(P,V3)"
   ]
  },
  {
   "cell_type": "code",
   "execution_count": 19,
   "id": "a5f734aa-12ed-4242-9d23-49569514eca3",
   "metadata": {},
   "outputs": [],
   "source": [
    "def hash_multiple_plane(P_l, v):\n",
    "    hash_value = 0\n",
    "    for i, P in enumerate(P_l):\n",
    "        sign = side_of_plane(P,v)\n",
    "        hash_i = 1 if sign >= 0 else 0\n",
    "        hash_value += 2**i * hash_i\n",
    "    return hash_value\n",
    "        "
   ]
  },
  {
   "cell_type": "code",
   "execution_count": 21,
   "id": "b418d50f-0f88-4687-b9c0-c89ac1ca12f1",
   "metadata": {},
   "outputs": [
    {
     "data": {
      "text/plain": [
       "1"
      ]
     },
     "execution_count": 21,
     "metadata": {},
     "output_type": "execute_result"
    }
   ],
   "source": [
    "(2**0*1) + (2**1*0) + (2**2*0) + (2**3*0)"
   ]
  },
  {
   "cell_type": "code",
   "execution_count": 22,
   "id": "2ad5a354-d451-4046-a6a9-a259e70f6dfb",
   "metadata": {},
   "outputs": [
    {
     "data": {
      "text/plain": [
       "array([[ 1.5695374 ,  0.54734764],\n",
       "       [-0.11442444,  0.17338993],\n",
       "       [ 0.58419258, -0.02446321]])"
      ]
     },
     "execution_count": 22,
     "metadata": {},
     "output_type": "execute_result"
    }
   ],
   "source": [
    "num_dimensions = 2\n",
    "num_planes = 3\n",
    "\n",
    "random_planes_matrix = np.random.normal(size=(num_planes, num_dimensions))\n",
    "random_planes_matrix"
   ]
  },
  {
   "cell_type": "code",
   "execution_count": 23,
   "id": "782bea61-9e6f-4217-8544-558bf5cbb14a",
   "metadata": {},
   "outputs": [],
   "source": [
    "v = np.array([[2,2]])"
   ]
  },
  {
   "cell_type": "code",
   "execution_count": 26,
   "id": "57e43afa-2dd4-4252-bfab-fd8ab4a3dbf8",
   "metadata": {},
   "outputs": [
    {
     "data": {
      "text/plain": [
       "array([[1.],\n",
       "       [1.],\n",
       "       [1.]])"
      ]
     },
     "execution_count": 26,
     "metadata": {},
     "output_type": "execute_result"
    }
   ],
   "source": [
    "num_planes_matrix = side_of_plane(random_planes_matrix, v)\n",
    "num_planes_matrix"
   ]
  },
  {
   "cell_type": "code",
   "execution_count": 27,
   "id": "f8449a3e-c471-4551-bfac-2cec093c3830",
   "metadata": {},
   "outputs": [
    {
     "data": {
      "text/plain": [
       "7"
      ]
     },
     "execution_count": 27,
     "metadata": {},
     "output_type": "execute_result"
    }
   ],
   "source": [
    "hash_multiple_plane(random_planes_matrix, v )"
   ]
  },
  {
   "cell_type": "code",
   "execution_count": 28,
   "id": "2b34770b-11f6-40f8-b9d0-60e6f9bbc8bb",
   "metadata": {},
   "outputs": [],
   "source": [
    "word_embedding = {\n",
    "    \"I\": np.array([1,0,1]),\n",
    "    \"love\": np.array([-1,0,1]),\n",
    "    \"learning\": np.array([1,0,1])\n",
    "}\n",
    "words_in_document = [\"I\", \"love\", \"learning\"]\n",
    "document_embedding = np.array([0,0,0])\n",
    "for word in words_in_document:\n",
    "    document_embedding += word_embedding.get(word,0)"
   ]
  },
  {
   "cell_type": "code",
   "execution_count": 29,
   "id": "5d25862e-68cf-495d-a4c9-e89a2d4d5671",
   "metadata": {},
   "outputs": [
    {
     "data": {
      "text/plain": [
       "array([1, 0, 3])"
      ]
     },
     "execution_count": 29,
     "metadata": {},
     "output_type": "execute_result"
    }
   ],
   "source": [
    "document_embedding"
   ]
  },
  {
   "cell_type": "code",
   "execution_count": null,
   "id": "be9476f2-7f0e-4f64-9ca9-ac8eb60c5c09",
   "metadata": {},
   "outputs": [],
   "source": []
  }
 ],
 "metadata": {
  "kernelspec": {
   "display_name": "Python 3 (ipykernel)",
   "language": "python",
   "name": "python3"
  },
  "language_info": {
   "codemirror_mode": {
    "name": "ipython",
    "version": 3
   },
   "file_extension": ".py",
   "mimetype": "text/x-python",
   "name": "python",
   "nbconvert_exporter": "python",
   "pygments_lexer": "ipython3",
   "version": "3.11.3"
  }
 },
 "nbformat": 4,
 "nbformat_minor": 5
}
